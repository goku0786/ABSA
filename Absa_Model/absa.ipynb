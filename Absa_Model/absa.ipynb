{
 "cells": [
  {
   "cell_type": "code",
   "execution_count": 153,
   "id": "66afec21-1afd-40b1-bae3-d344df39df2b",
   "metadata": {},
   "outputs": [],
   "source": [
    "import pandas as pd\n",
    "import torch\n",
    "from torch.utils.data import Dataset, DataLoader\n",
    "from transformers import BertTokenizer, BertForSequenceClassification, AdamW\n",
    "from sklearn.model_selection import train_test_split\n",
    "from sklearn.preprocessing import LabelEncoder\n",
    "import numpy as np\n",
    "import re\n",
    "import nltk\n",
    "import matplotlib.pyplot as plt\n",
    "import seaborn as sns\n",
    "from sklearn.metrics import confusion_matrix, classification_report\n",
    "from tqdm import tqdm"
   ]
  },
  {
   "cell_type": "code",
   "execution_count": 154,
   "id": "c7e5ee65-152a-4de3-9290-1a1408b91137",
   "metadata": {},
   "outputs": [],
   "source": [
    "from nltk.tokenize import word_tokenize\n",
    "from nltk.stem import WordNetLemmatizer\n",
    "from nltk.corpus import stopwords"
   ]
  },
  {
   "cell_type": "code",
   "execution_count": 155,
   "id": "750602cf-dbac-43be-a40a-9574219eaee1",
   "metadata": {},
   "outputs": [],
   "source": [
    "# Preprocessing function\n",
    "def preprocess_text(text):\n",
    "    # Convert to lowercase and remove special characters (keeping apostrophes)\n",
    "    text = text.lower()\n",
    "    text = re.sub(r\"[^a-zA-Z'\\s]\", ' ', text)\n",
    "\n",
    "    # Tokenize and remove stopwords\n",
    "    tokens = word_tokenize(text)\n",
    "    stop_words = set(stopwords.words('english'))\n",
    "    important_words = {'not', 'no', 'never', 'none', 'nobody', 'nowhere', 'neither', 'nor',\n",
    "                       \"doesn't\", \"isn't\", \"wasn't\", \"shouldn't\", \"wouldn't\", \"couldn't\", \"won't\",\n",
    "                       \"can't\", \"don't\"}\n",
    "    tokens = [token for token in tokens if token not in stop_words or token in important_words]\n",
    "\n",
    "    # Lemmatization\n",
    "    lemmatizer = WordNetLemmatizer()\n",
    "    tokens = [lemmatizer.lemmatize(token) for token in tokens]\n",
    "\n",
    "    return ' '.join(tokens)"
   ]
  },
  {
   "cell_type": "code",
   "execution_count": 156,
   "id": "bf8ba05a-f22d-40da-8cc2-6f77bc80ee56",
   "metadata": {},
   "outputs": [],
   "source": [
    "# Load and preprocess the dataset\n",
    "df = pd.read_csv(\"E:/absa_farhan/FinalDataset.csv\")\n",
    "df['text'] = df['text'].apply(preprocess_text)"
   ]
  },
  {
   "cell_type": "code",
   "execution_count": 157,
   "id": "101e9e0c-c539-4e9b-a92f-2f7e71873e64",
   "metadata": {},
   "outputs": [
    {
     "name": "stdout",
     "output_type": "stream",
     "text": [
      "                                                text     span     label  \\\n",
      "0  positive point camera quality good not enough ...  battery  positive   \n",
      "1  using day concern regarding phone pro excellen...  battery  positive   \n",
      "2  thing good phone camera quality display batter...  battery  positive   \n",
      "3  phone awesome camera quality super awesome eve...  battery  positive   \n",
      "4  good battery performance not goodlooks good pe...   design  positive   \n",
      "\n",
      "   ordinal  \n",
      "0        0  \n",
      "1        0  \n",
      "2        0  \n",
      "3        0  \n",
      "4        0  \n"
     ]
    }
   ],
   "source": [
    "print(df.head())"
   ]
  },
  {
   "cell_type": "code",
   "execution_count": 158,
   "id": "fdaaaa83-23a8-4610-97f9-75a4a1b3f2bf",
   "metadata": {},
   "outputs": [
    {
     "name": "stdout",
     "output_type": "stream",
     "text": [
      "                                                  text     span     label  \\\n",
      "779  disappointed display quality offer low brightn...  display  negative   \n",
      "780  superb phone best phone k camera warms little ...   camera  positive   \n",
      "781  disappointed display quality offer low brightn...  display  negative   \n",
      "782  everything thing device good camera awesome ma...  battery  positive   \n",
      "783  high quality camera iphone new megapixel main ...   camera   neutral   \n",
      "\n",
      "     ordinal  \n",
      "779        3  \n",
      "780        3  \n",
      "781        3  \n",
      "782        4  \n",
      "783        4  \n"
     ]
    }
   ],
   "source": [
    "print(df.tail())"
   ]
  },
  {
   "cell_type": "code",
   "execution_count": 159,
   "id": "f243bdcc-5749-45e0-9cda-3d4a0c37515a",
   "metadata": {},
   "outputs": [
    {
     "name": "stdout",
     "output_type": "stream",
     "text": [
      "<class 'pandas.core.frame.DataFrame'>\n",
      "RangeIndex: 784 entries, 0 to 783\n",
      "Data columns (total 4 columns):\n",
      " #   Column   Non-Null Count  Dtype \n",
      "---  ------   --------------  ----- \n",
      " 0   text     784 non-null    object\n",
      " 1   span     784 non-null    object\n",
      " 2   label    784 non-null    object\n",
      " 3   ordinal  784 non-null    int64 \n",
      "dtypes: int64(1), object(3)\n",
      "memory usage: 24.6+ KB\n",
      "None\n"
     ]
    }
   ],
   "source": [
    "print(df.info())"
   ]
  },
  {
   "cell_type": "code",
   "execution_count": 160,
   "id": "8acff34b-66f0-42aa-9846-f93078e67701",
   "metadata": {},
   "outputs": [
    {
     "data": {
      "text/html": [
       "<div>\n",
       "<style scoped>\n",
       "    .dataframe tbody tr th:only-of-type {\n",
       "        vertical-align: middle;\n",
       "    }\n",
       "\n",
       "    .dataframe tbody tr th {\n",
       "        vertical-align: top;\n",
       "    }\n",
       "\n",
       "    .dataframe thead th {\n",
       "        text-align: right;\n",
       "    }\n",
       "</style>\n",
       "<table border=\"1\" class=\"dataframe\">\n",
       "  <thead>\n",
       "    <tr style=\"text-align: right;\">\n",
       "      <th></th>\n",
       "      <th>text</th>\n",
       "      <th>span</th>\n",
       "      <th>label</th>\n",
       "      <th>ordinal</th>\n",
       "      <th>label_encoded</th>\n",
       "    </tr>\n",
       "  </thead>\n",
       "  <tbody>\n",
       "    <tr>\n",
       "      <th>0</th>\n",
       "      <td>positive point camera quality good not enough ...</td>\n",
       "      <td>battery</td>\n",
       "      <td>positive</td>\n",
       "      <td>0</td>\n",
       "      <td>2</td>\n",
       "    </tr>\n",
       "    <tr>\n",
       "      <th>1</th>\n",
       "      <td>using day concern regarding phone pro excellen...</td>\n",
       "      <td>battery</td>\n",
       "      <td>positive</td>\n",
       "      <td>0</td>\n",
       "      <td>2</td>\n",
       "    </tr>\n",
       "    <tr>\n",
       "      <th>2</th>\n",
       "      <td>thing good phone camera quality display batter...</td>\n",
       "      <td>battery</td>\n",
       "      <td>positive</td>\n",
       "      <td>0</td>\n",
       "      <td>2</td>\n",
       "    </tr>\n",
       "    <tr>\n",
       "      <th>3</th>\n",
       "      <td>phone awesome camera quality super awesome eve...</td>\n",
       "      <td>battery</td>\n",
       "      <td>positive</td>\n",
       "      <td>0</td>\n",
       "      <td>2</td>\n",
       "    </tr>\n",
       "    <tr>\n",
       "      <th>4</th>\n",
       "      <td>good battery performance not goodlooks good pe...</td>\n",
       "      <td>design</td>\n",
       "      <td>positive</td>\n",
       "      <td>0</td>\n",
       "      <td>2</td>\n",
       "    </tr>\n",
       "    <tr>\n",
       "      <th>...</th>\n",
       "      <td>...</td>\n",
       "      <td>...</td>\n",
       "      <td>...</td>\n",
       "      <td>...</td>\n",
       "      <td>...</td>\n",
       "    </tr>\n",
       "    <tr>\n",
       "      <th>779</th>\n",
       "      <td>disappointed display quality offer low brightn...</td>\n",
       "      <td>display</td>\n",
       "      <td>negative</td>\n",
       "      <td>3</td>\n",
       "      <td>0</td>\n",
       "    </tr>\n",
       "    <tr>\n",
       "      <th>780</th>\n",
       "      <td>superb phone best phone k camera warms little ...</td>\n",
       "      <td>camera</td>\n",
       "      <td>positive</td>\n",
       "      <td>3</td>\n",
       "      <td>2</td>\n",
       "    </tr>\n",
       "    <tr>\n",
       "      <th>781</th>\n",
       "      <td>disappointed display quality offer low brightn...</td>\n",
       "      <td>display</td>\n",
       "      <td>negative</td>\n",
       "      <td>3</td>\n",
       "      <td>0</td>\n",
       "    </tr>\n",
       "    <tr>\n",
       "      <th>782</th>\n",
       "      <td>everything thing device good camera awesome ma...</td>\n",
       "      <td>battery</td>\n",
       "      <td>positive</td>\n",
       "      <td>4</td>\n",
       "      <td>2</td>\n",
       "    </tr>\n",
       "    <tr>\n",
       "      <th>783</th>\n",
       "      <td>high quality camera iphone new megapixel main ...</td>\n",
       "      <td>camera</td>\n",
       "      <td>neutral</td>\n",
       "      <td>4</td>\n",
       "      <td>1</td>\n",
       "    </tr>\n",
       "  </tbody>\n",
       "</table>\n",
       "<p>784 rows × 5 columns</p>\n",
       "</div>"
      ],
      "text/plain": [
       "                                                  text     span     label  \\\n",
       "0    positive point camera quality good not enough ...  battery  positive   \n",
       "1    using day concern regarding phone pro excellen...  battery  positive   \n",
       "2    thing good phone camera quality display batter...  battery  positive   \n",
       "3    phone awesome camera quality super awesome eve...  battery  positive   \n",
       "4    good battery performance not goodlooks good pe...   design  positive   \n",
       "..                                                 ...      ...       ...   \n",
       "779  disappointed display quality offer low brightn...  display  negative   \n",
       "780  superb phone best phone k camera warms little ...   camera  positive   \n",
       "781  disappointed display quality offer low brightn...  display  negative   \n",
       "782  everything thing device good camera awesome ma...  battery  positive   \n",
       "783  high quality camera iphone new megapixel main ...   camera   neutral   \n",
       "\n",
       "     ordinal  label_encoded  \n",
       "0          0              2  \n",
       "1          0              2  \n",
       "2          0              2  \n",
       "3          0              2  \n",
       "4          0              2  \n",
       "..       ...            ...  \n",
       "779        3              0  \n",
       "780        3              2  \n",
       "781        3              0  \n",
       "782        4              2  \n",
       "783        4              1  \n",
       "\n",
       "[784 rows x 5 columns]"
      ]
     },
     "execution_count": 160,
     "metadata": {},
     "output_type": "execute_result"
    }
   ],
   "source": [
    "# Encode labels and aspects\n",
    "label_encoder = LabelEncoder()\n",
    "df['label_encoded'] = label_encoder.fit_transform(df['label'])\n",
    "df # positive = 2, negative = 1, neutral = 0"
   ]
  },
  {
   "cell_type": "code",
   "execution_count": 161,
   "id": "e8fa82e1",
   "metadata": {},
   "outputs": [],
   "source": [
    "label_colors = {\n",
    "    0: 'red',   # Negative\n",
    "    1: 'blue',  # Neutral\n",
    "    2: 'green', # Positive\n",
    "}"
   ]
  },
  {
   "cell_type": "code",
   "execution_count": 162,
   "id": "16cf650e",
   "metadata": {},
   "outputs": [],
   "source": [
    "df[\"label_encoded\"] = df[\"label_encoded\"].astype(\"category\")"
   ]
  },
  {
   "cell_type": "code",
   "execution_count": 163,
   "id": "b984f73e-289b-4909-bb68-f4bb1a47eeaf",
   "metadata": {},
   "outputs": [
    {
     "data": {
      "image/png": "[encoded data removed]",
      "text/plain": [
       "<Figure size 800x600 with 1 Axes>"
      ]
     },
     "metadata": {},
     "output_type": "display_data"
    }
   ],
   "source": [
    "# Plotting\n",
    "plt.figure(figsize=(8, 6))\n",
    "ax = sns.histplot(data=df, x=\"label_encoded\", bins=3)\n",
    "\n",
    "# Change colors of the bars manually\n",
    "for patch, label in zip(ax.patches, label_colors.keys()):\n",
    "    patch.set_facecolor(label_colors[label])\n",
    "\n",
    "handles = [\n",
    "    plt.Rectangle((0, 0), 1, 1, color='red', label='Negative'),\n",
    "    plt.Rectangle((0, 0), 1, 1, color='blue', label='Neutral'),\n",
    "    plt.Rectangle((0, 0), 1, 1, color='green', label='Positive')\n",
    "]\n",
    "plt.legend(handles=handles, title=\"Labels\", loc=\"upper left\")\n",
    "\n",
    "# Add labels and title\n",
    "plt.xlabel('Label Encoded')\n",
    "plt.ylabel('Frequency')\n",
    "plt.title('Histogram of Label Encoded Data')\n",
    "plt.show()"
   ]
  },
  {
   "cell_type": "code",
   "execution_count": 164,
   "id": "fe4ac634-acd5-46da-a4f4-44f2f344b567",
   "metadata": {},
   "outputs": [],
   "source": [
    "# Split the data into training and validation sets\n",
    "train_df, val_df = train_test_split(df, test_size=0.2, random_state=42)"
   ]
  },
  {
   "cell_type": "code",
   "execution_count": 165,
   "id": "5db80755",
   "metadata": {},
   "outputs": [
    {
     "data": {
      "text/html": [
       "<div>\n",
       "<style scoped>\n",
       "    .dataframe tbody tr th:only-of-type {\n",
       "        vertical-align: middle;\n",
       "    }\n",
       "\n",
       "    .dataframe tbody tr th {\n",
       "        vertical-align: top;\n",
       "    }\n",
       "\n",
       "    .dataframe thead th {\n",
       "        text-align: right;\n",
       "    }\n",
       "</style>\n",
       "<table border=\"1\" class=\"dataframe\">\n",
       "  <thead>\n",
       "    <tr style=\"text-align: right;\">\n",
       "      <th></th>\n",
       "      <th>text</th>\n",
       "      <th>span</th>\n",
       "      <th>label</th>\n",
       "      <th>ordinal</th>\n",
       "      <th>label_encoded</th>\n",
       "    </tr>\n",
       "  </thead>\n",
       "  <tbody>\n",
       "    <tr>\n",
       "      <th>762</th>\n",
       "      <td>really good phone daily task camera great mp p...</td>\n",
       "      <td>battery</td>\n",
       "      <td>positive</td>\n",
       "      <td>2</td>\n",
       "      <td>2</td>\n",
       "    </tr>\n",
       "    <tr>\n",
       "      <th>133</th>\n",
       "      <td>pro camera flagship level display excellent so...</td>\n",
       "      <td>battery</td>\n",
       "      <td>positive</td>\n",
       "      <td>0</td>\n",
       "      <td>2</td>\n",
       "    </tr>\n",
       "    <tr>\n",
       "      <th>648</th>\n",
       "      <td>camera photo equivalent pixel video top notch ...</td>\n",
       "      <td>camera</td>\n",
       "      <td>positive</td>\n",
       "      <td>0</td>\n",
       "      <td>2</td>\n",
       "    </tr>\n",
       "    <tr>\n",
       "      <th>55</th>\n",
       "      <td>iphone exceeded expectation every way possible...</td>\n",
       "      <td>camera</td>\n",
       "      <td>positive</td>\n",
       "      <td>0</td>\n",
       "      <td>2</td>\n",
       "    </tr>\n",
       "    <tr>\n",
       "      <th>411</th>\n",
       "      <td>totally happy camera battery display design</td>\n",
       "      <td>design</td>\n",
       "      <td>positive</td>\n",
       "      <td>0</td>\n",
       "      <td>2</td>\n",
       "    </tr>\n",
       "  </tbody>\n",
       "</table>\n",
       "</div>"
      ],
      "text/plain": [
       "                                                  text     span     label  \\\n",
       "762  really good phone daily task camera great mp p...  battery  positive   \n",
       "133  pro camera flagship level display excellent so...  battery  positive   \n",
       "648  camera photo equivalent pixel video top notch ...   camera  positive   \n",
       "55   iphone exceeded expectation every way possible...   camera  positive   \n",
       "411        totally happy camera battery display design   design  positive   \n",
       "\n",
       "     ordinal label_encoded  \n",
       "762        2             2  \n",
       "133        0             2  \n",
       "648        0             2  \n",
       "55         0             2  \n",
       "411        0             2  "
      ]
     },
     "execution_count": 165,
     "metadata": {},
     "output_type": "execute_result"
    }
   ],
   "source": [
    "train_df.head()"
   ]
  },
  {
   "cell_type": "code",
   "execution_count": 166,
   "id": "0ea1bc88",
   "metadata": {},
   "outputs": [
    {
     "data": {
      "text/html": [
       "<div>\n",
       "<style scoped>\n",
       "    .dataframe tbody tr th:only-of-type {\n",
       "        vertical-align: middle;\n",
       "    }\n",
       "\n",
       "    .dataframe tbody tr th {\n",
       "        vertical-align: top;\n",
       "    }\n",
       "\n",
       "    .dataframe thead th {\n",
       "        text-align: right;\n",
       "    }\n",
       "</style>\n",
       "<table border=\"1\" class=\"dataframe\">\n",
       "  <thead>\n",
       "    <tr style=\"text-align: right;\">\n",
       "      <th></th>\n",
       "      <th>text</th>\n",
       "      <th>span</th>\n",
       "      <th>label</th>\n",
       "      <th>ordinal</th>\n",
       "      <th>label_encoded</th>\n",
       "    </tr>\n",
       "  </thead>\n",
       "  <tbody>\n",
       "    <tr>\n",
       "      <th>598</th>\n",
       "      <td>upgraded samsung kept feeling amazed entire mi...</td>\n",
       "      <td>camera</td>\n",
       "      <td>positive</td>\n",
       "      <td>0</td>\n",
       "      <td>2</td>\n",
       "    </tr>\n",
       "    <tr>\n",
       "      <th>590</th>\n",
       "      <td>camera quality improved loving</td>\n",
       "      <td>camera</td>\n",
       "      <td>positive</td>\n",
       "      <td>0</td>\n",
       "      <td>2</td>\n",
       "    </tr>\n",
       "    <tr>\n",
       "      <th>209</th>\n",
       "      <td>bright good display speaker loud performance c...</td>\n",
       "      <td>battery</td>\n",
       "      <td>positive</td>\n",
       "      <td>0</td>\n",
       "      <td>2</td>\n",
       "    </tr>\n",
       "    <tr>\n",
       "      <th>637</th>\n",
       "      <td>camera outstanding friend purchase phone</td>\n",
       "      <td>camera</td>\n",
       "      <td>positive</td>\n",
       "      <td>0</td>\n",
       "      <td>2</td>\n",
       "    </tr>\n",
       "    <tr>\n",
       "      <th>174</th>\n",
       "      <td>good camera display design performance come av...</td>\n",
       "      <td>display</td>\n",
       "      <td>positive</td>\n",
       "      <td>0</td>\n",
       "      <td>2</td>\n",
       "    </tr>\n",
       "  </tbody>\n",
       "</table>\n",
       "</div>"
      ],
      "text/plain": [
       "                                                  text     span     label  \\\n",
       "598  upgraded samsung kept feeling amazed entire mi...   camera  positive   \n",
       "590                     camera quality improved loving   camera  positive   \n",
       "209  bright good display speaker loud performance c...  battery  positive   \n",
       "637           camera outstanding friend purchase phone   camera  positive   \n",
       "174  good camera display design performance come av...  display  positive   \n",
       "\n",
       "     ordinal label_encoded  \n",
       "598        0             2  \n",
       "590        0             2  \n",
       "209        0             2  \n",
       "637        0             2  \n",
       "174        0             2  "
      ]
     },
     "execution_count": 166,
     "metadata": {},
     "output_type": "execute_result"
    }
   ],
   "source": [
    "val_df.head()"
   ]
  },
  {
   "cell_type": "code",
   "execution_count": 167,
   "id": "35f0f588-debf-492d-a7f5-804197d8f018",
   "metadata": {},
   "outputs": [],
   "source": [
    "# Define the dataset class\n",
    "class AspectSentimentDataset(Dataset):\n",
    "    def __init__(self, dataframe, tokenizer, max_len):\n",
    "        self.data = dataframe\n",
    "        self.tokenizer = tokenizer\n",
    "        self.max_len = max_len\n",
    "\n",
    "    def __len__(self):\n",
    "        return len(self.data)\n",
    "\n",
    "    def __getitem__(self, index):\n",
    "        text = self.data.iloc[index]['text']\n",
    "        aspect = self.data.iloc[index]['span']\n",
    "        inputs = self.tokenizer.encode_plus(\n",
    "            aspect,\n",
    "            text,\n",
    "            add_special_tokens=True,\n",
    "            max_length=self.max_len,\n",
    "            padding='max_length',\n",
    "            truncation=True,\n",
    "            return_token_type_ids=True,\n",
    "            return_attention_mask=True,\n",
    "            return_tensors='pt'\n",
    "        )\n",
    "        return {\n",
    "            'input_ids': inputs['input_ids'].flatten(),\n",
    "            'attention_mask': inputs['attention_mask'].flatten(),\n",
    "            'token_type_ids': inputs['token_type_ids'].flatten(),\n",
    "            'labels': torch.tensor(self.data.iloc[index]['label_encoded'], dtype=torch.long)\n",
    "        }"
   ]
  },
  {
   "cell_type": "code",
   "execution_count": 168,
   "id": "ae1171a0-90d8-4b26-87ab-0e88af6b7483",
   "metadata": {},
   "outputs": [
    {
     "name": "stderr",
     "output_type": "stream",
     "text": [
      "C:\\Users\\ASUS\\AppData\\Local\\Programs\\Python\\Python312\\Lib\\site-packages\\transformers\\tokenization_utils_base.py:1601: FutureWarning: `clean_up_tokenization_spaces` was not set. It will be set to `True` by default. This behavior will be depracted in transformers v4.45, and will be then set to `False` by default. For more details check this issue: https://github.com/huggingface/transformers/issues/31884\n",
      "  warnings.warn(\n"
     ]
    },
    {
     "name": "stdout",
     "output_type": "stream",
     "text": [
      "Number of labels: 3\n",
      "Unique labels: ['negative' 'neutral' 'positive']\n"
     ]
    },
    {
     "name": "stderr",
     "output_type": "stream",
     "text": [
      "Some weights of BertForSequenceClassification were not initialized from the model checkpoint at bert-base-uncased and are newly initialized: ['classifier.bias', 'classifier.weight']\n",
      "You should probably TRAIN this model on a down-stream task to be able to use it for predictions and inference.\n"
     ]
    }
   ],
   "source": [
    "# Initialize tokenizer and model\n",
    "tokenizer = BertTokenizer.from_pretrained('bert-base-uncased')\n",
    "num_labels = len(label_encoder.classes_)\n",
    "print(f\"Number of labels: {num_labels}\")\n",
    "print(f\"Unique labels: {label_encoder.classes_}\")\n",
    "model = BertForSequenceClassification.from_pretrained('bert-base-uncased', num_labels=num_labels)"
   ]
  },
  {
   "cell_type": "code",
   "execution_count": 169,
   "id": "7537f2f4-ef29-43cc-b0ee-2072d6c8c5cf",
   "metadata": {},
   "outputs": [],
   "source": [
    "# Prepare datasets and dataloaders\n",
    "train_dataset = AspectSentimentDataset(train_df, tokenizer, max_len=128)\n",
    "val_dataset = AspectSentimentDataset(val_df, tokenizer, max_len=128)\n",
    "train_loader = DataLoader(train_dataset, batch_size=16, shuffle=True)\n",
    "val_loader = DataLoader(val_dataset, batch_size=16)"
   ]
  },
  {
   "cell_type": "code",
   "execution_count": 170,
   "id": "2994ebe6-ab9c-450e-9771-6b95276ad4d8",
   "metadata": {},
   "outputs": [
    {
     "name": "stderr",
     "output_type": "stream",
     "text": [
      "C:\\Users\\ASUS\\AppData\\Local\\Programs\\Python\\Python312\\Lib\\site-packages\\transformers\\optimization.py:591: FutureWarning: This implementation of AdamW is deprecated and will be removed in a future version. Use the PyTorch implementation torch.optim.AdamW instead, or set `no_deprecation_warning=True` to disable this warning\n",
      "  warnings.warn(\n"
     ]
    }
   ],
   "source": [
    "# Training settings\n",
    "device = torch.device('cuda' if torch.cuda.is_available() else 'cpu')\n",
    "model.to(device)\n",
    "optimizer = AdamW(model.parameters(), lr=2e-5)\n",
    "num_epochs = 3"
   ]
  },
  {
   "cell_type": "code",
   "execution_count": 171,
   "id": "15f1f359-eb0d-4d80-bf39-6aa9a192558c",
   "metadata": {},
   "outputs": [],
   "source": [
    "# Initialize history dictionary for plotting\n",
    "history = {\n",
    "    'accuracy': [],\n",
    "    'val_accuracy': [],\n",
    "    'loss': [],\n",
    "    'val_loss': []\n",
    "}"
   ]
  },
  {
   "cell_type": "code",
   "execution_count": 172,
   "id": "67abc24d-7e26-4c2b-ae73-e8275aef7a07",
   "metadata": {},
   "outputs": [],
   "source": [
    "# Lists to hold true and predicted labels for confusion matrix\n",
    "y_true = []\n",
    "y_pred = []"
   ]
  },
  {
   "cell_type": "code",
   "execution_count": 173,
   "id": "96a4c37b-a0a9-4054-9eef-b26b420906e8",
   "metadata": {},
   "outputs": [],
   "source": [
    "from tqdm import tqdm"
   ]
  },
  {
   "cell_type": "code",
   "execution_count": 174,
   "id": "b43bdb6f-6524-40ce-b7c5-f026cd64b308",
   "metadata": {},
   "outputs": [
    {
     "name": "stderr",
     "output_type": "stream",
     "text": [
      "Epoch 1/3 [Train]:   0%|                                                                        | 0/40 [00:00<?, ?it/s]Be aware, overflowing tokens are not returned for the setting you have chosen, i.e. sequence pairs with the 'longest_first' truncation strategy. So the returned list will always be empty even if some tokens have been removed.\n",
      "Epoch 1/3 [Train]:   2%|█                                          | 1/40 [00:00<00:22,  1.70it/s, loss=1.18, acc=18.8]Be aware, overflowing tokens are not returned for the setting you have chosen, i.e. sequence pairs with the 'longest_first' truncation strategy. So the returned list will always be empty even if some tokens have been removed.\n",
      "Epoch 1/3 [Train]:  25%|██████████▎                              | 10/40 [00:13<00:44,  1.48s/it, loss=0.809, acc=68.1]Be aware, overflowing tokens are not returned for the setting you have chosen, i.e. sequence pairs with the 'longest_first' truncation strategy. So the returned list will always be empty even if some tokens have been removed.\n",
      "Epoch 1/3 [Train]:  28%|███████████▎                             | 11/40 [00:15<00:42,  1.48s/it, loss=0.793, acc=69.3]Be aware, overflowing tokens are not returned for the setting you have chosen, i.e. sequence pairs with the 'longest_first' truncation strategy. So the returned list will always be empty even if some tokens have been removed.\n",
      "Be aware, overflowing tokens are not returned for the setting you have chosen, i.e. sequence pairs with the 'longest_first' truncation strategy. So the returned list will always be empty even if some tokens have been removed.\n",
      "Epoch 1/3 [Train]:  32%|█████████████▎                           | 13/40 [00:18<00:40,  1.49s/it, loss=0.766, acc=71.2]Be aware, overflowing tokens are not returned for the setting you have chosen, i.e. sequence pairs with the 'longest_first' truncation strategy. So the returned list will always be empty even if some tokens have been removed.\n",
      "Epoch 1/3 [Train]:  35%|██████████████▎                          | 14/40 [00:19<00:38,  1.49s/it, loss=0.735, acc=72.8]Be aware, overflowing tokens are not returned for the setting you have chosen, i.e. sequence pairs with the 'longest_first' truncation strategy. So the returned list will always be empty even if some tokens have been removed.\n",
      "Epoch 1/3 [Train]:  42%|█████████████████▍                       | 17/40 [00:24<00:34,  1.49s/it, loss=0.709, acc=74.3]Be aware, overflowing tokens are not returned for the setting you have chosen, i.e. sequence pairs with the 'longest_first' truncation strategy. So the returned list will always be empty even if some tokens have been removed.\n",
      "Epoch 1/3 [Train]:  48%|████████████████████▍                      | 19/40 [00:27<00:31,  1.50s/it, loss=0.692, acc=75]Be aware, overflowing tokens are not returned for the setting you have chosen, i.e. sequence pairs with the 'longest_first' truncation strategy. So the returned list will always be empty even if some tokens have been removed.\n",
      "Epoch 1/3 [Train]:  62%|██████████████████████████▉                | 25/40 [00:36<00:22,  1.47s/it, loss=0.658, acc=76]Be aware, overflowing tokens are not returned for the setting you have chosen, i.e. sequence pairs with the 'longest_first' truncation strategy. So the returned list will always be empty even if some tokens have been removed.\n",
      "Be aware, overflowing tokens are not returned for the setting you have chosen, i.e. sequence pairs with the 'longest_first' truncation strategy. So the returned list will always be empty even if some tokens have been removed.\n",
      "Epoch 1/3 [Train]:  72%|█████████████████████████████▋           | 29/40 [00:42<00:16,  1.48s/it, loss=0.634, acc=76.7]Be aware, overflowing tokens are not returned for the setting you have chosen, i.e. sequence pairs with the 'longest_first' truncation strategy. So the returned list will always be empty even if some tokens have been removed.\n",
      "Epoch 1/3 [Train]: 100%|█████████████████████████████████████████| 40/40 [00:57<00:00,  1.43s/it, loss=0.574, acc=78.9]\n",
      "Epoch 1/3 [Validation]:   0%|                                                                   | 0/10 [00:00<?, ?it/s]Be aware, overflowing tokens are not returned for the setting you have chosen, i.e. sequence pairs with the 'longest_first' truncation strategy. So the returned list will always be empty even if some tokens have been removed.\n",
      "Epoch 1/3 [Validation]:  60%|██████████████████████▏              | 6/10 [00:01<00:00,  5.73it/s, loss=0.283, acc=91.7]Be aware, overflowing tokens are not returned for the setting you have chosen, i.e. sequence pairs with the 'longest_first' truncation strategy. So the returned list will always be empty even if some tokens have been removed.\n",
      "Epoch 1/3 [Validation]:  80%|███████████████████████████████▏       | 8/10 [00:01<00:00,  5.75it/s, loss=0.281, acc=93]Be aware, overflowing tokens are not returned for the setting you have chosen, i.e. sequence pairs with the 'longest_first' truncation strategy. So the returned list will always be empty even if some tokens have been removed.\n",
      "Epoch 1/3 [Validation]: 100%|██████████████████████████████████████| 10/10 [00:01<00:00,  5.79it/s, loss=0.268, acc=93]\n"
     ]
    },
    {
     "name": "stdout",
     "output_type": "stream",
     "text": [
      "Epoch 1/3, Training Accuracy: 78.95%, Validation Accuracy: 92.99%\n"
     ]
    },
    {
     "name": "stderr",
     "output_type": "stream",
     "text": [
      "Epoch 2/3 [Train]:   8%|███▏                                      | 3/40 [00:04<00:55,  1.49s/it, loss=0.297, acc=91.7]Be aware, overflowing tokens are not returned for the setting you have chosen, i.e. sequence pairs with the 'longest_first' truncation strategy. So the returned list will always be empty even if some tokens have been removed.\n",
      "Epoch 2/3 [Train]:  32%|█████████████▎                           | 13/40 [00:19<00:40,  1.49s/it, loss=0.364, acc=88.5]Be aware, overflowing tokens are not returned for the setting you have chosen, i.e. sequence pairs with the 'longest_first' truncation strategy. So the returned list will always be empty even if some tokens have been removed.\n",
      "Epoch 2/3 [Train]:  40%|████████████████▍                        | 16/40 [00:23<00:35,  1.49s/it, loss=0.349, acc=89.5]Be aware, overflowing tokens are not returned for the setting you have chosen, i.e. sequence pairs with the 'longest_first' truncation strategy. So the returned list will always be empty even if some tokens have been removed.\n",
      "Be aware, overflowing tokens are not returned for the setting you have chosen, i.e. sequence pairs with the 'longest_first' truncation strategy. So the returned list will always be empty even if some tokens have been removed.\n",
      "Epoch 2/3 [Train]:  55%|██████████████████████▌                  | 22/40 [00:32<00:26,  1.49s/it, loss=0.341, acc=90.3]Be aware, overflowing tokens are not returned for the setting you have chosen, i.e. sequence pairs with the 'longest_first' truncation strategy. So the returned list will always be empty even if some tokens have been removed.\n",
      "Be aware, overflowing tokens are not returned for the setting you have chosen, i.e. sequence pairs with the 'longest_first' truncation strategy. So the returned list will always be empty even if some tokens have been removed.\n",
      "Epoch 2/3 [Train]:  62%|█████████████████████████▋               | 25/40 [00:37<00:22,  1.49s/it, loss=0.327, acc=90.8]Be aware, overflowing tokens are not returned for the setting you have chosen, i.e. sequence pairs with the 'longest_first' truncation strategy. So the returned list will always be empty even if some tokens have been removed.\n",
      "Epoch 2/3 [Train]:  70%|████████████████████████████▋            | 28/40 [00:41<00:17,  1.49s/it, loss=0.308, acc=91.3]Be aware, overflowing tokens are not returned for the setting you have chosen, i.e. sequence pairs with the 'longest_first' truncation strategy. So the returned list will always be empty even if some tokens have been removed.\n",
      "Epoch 2/3 [Train]:  75%|██████████████████████████████▊          | 30/40 [00:44<00:14,  1.49s/it, loss=0.297, acc=91.7]Be aware, overflowing tokens are not returned for the setting you have chosen, i.e. sequence pairs with the 'longest_first' truncation strategy. So the returned list will always be empty even if some tokens have been removed.\n",
      "Epoch 2/3 [Train]:  85%|██████████████████████████████████▊      | 34/40 [00:50<00:08,  1.49s/it, loss=0.289, acc=91.7]Be aware, overflowing tokens are not returned for the setting you have chosen, i.e. sequence pairs with the 'longest_first' truncation strategy. So the returned list will always be empty even if some tokens have been removed.\n",
      "Epoch 2/3 [Train]:  88%|█████████████████████████████████████▋     | 35/40 [00:52<00:07,  1.49s/it, loss=0.284, acc=92]Be aware, overflowing tokens are not returned for the setting you have chosen, i.e. sequence pairs with the 'longest_first' truncation strategy. So the returned list will always be empty even if some tokens have been removed.\n",
      "Epoch 2/3 [Train]:  95%|██████████████████████████████████████▉  | 38/40 [00:56<00:02,  1.49s/it, loss=0.273, acc=92.4]Be aware, overflowing tokens are not returned for the setting you have chosen, i.e. sequence pairs with the 'longest_first' truncation strategy. So the returned list will always be empty even if some tokens have been removed.\n",
      "Epoch 2/3 [Train]: 100%|█████████████████████████████████████████| 40/40 [00:58<00:00,  1.46s/it, loss=0.282, acc=92.3]\n",
      "Epoch 2/3 [Validation]:   0%|                                                                   | 0/10 [00:00<?, ?it/s]Be aware, overflowing tokens are not returned for the setting you have chosen, i.e. sequence pairs with the 'longest_first' truncation strategy. So the returned list will always be empty even if some tokens have been removed.\n",
      "Epoch 2/3 [Validation]:  60%|██████████████████████▏              | 6/10 [00:01<00:00,  5.66it/s, loss=0.131, acc=92.7]Be aware, overflowing tokens are not returned for the setting you have chosen, i.e. sequence pairs with the 'longest_first' truncation strategy. So the returned list will always be empty even if some tokens have been removed.\n",
      "Epoch 2/3 [Validation]:  80%|█████████████████████████████▌       | 8/10 [00:01<00:00,  5.63it/s, loss=0.147, acc=91.4]Be aware, overflowing tokens are not returned for the setting you have chosen, i.e. sequence pairs with the 'longest_first' truncation strategy. So the returned list will always be empty even if some tokens have been removed.\n",
      "Epoch 2/3 [Validation]: 100%|████████████████████████████████████| 10/10 [00:01<00:00,  5.71it/s, loss=0.139, acc=91.7]\n"
     ]
    },
    {
     "name": "stdout",
     "output_type": "stream",
     "text": [
      "Epoch 2/3, Training Accuracy: 92.34%, Validation Accuracy: 91.72%\n"
     ]
    },
    {
     "name": "stderr",
     "output_type": "stream",
     "text": [
      "Epoch 3/3 [Train]:  10%|████▏                                     | 4/40 [00:05<00:53,  1.49s/it, loss=0.126, acc=93.8]Be aware, overflowing tokens are not returned for the setting you have chosen, i.e. sequence pairs with the 'longest_first' truncation strategy. So the returned list will always be empty even if some tokens have been removed.\n",
      "Epoch 3/3 [Train]:  12%|█████▋                                       | 5/40 [00:07<00:52,  1.50s/it, loss=0.12, acc=95]Be aware, overflowing tokens are not returned for the setting you have chosen, i.e. sequence pairs with the 'longest_first' truncation strategy. So the returned list will always be empty even if some tokens have been removed.\n",
      "Be aware, overflowing tokens are not returned for the setting you have chosen, i.e. sequence pairs with the 'longest_first' truncation strategy. So the returned list will always be empty even if some tokens have been removed.\n",
      "Epoch 3/3 [Train]:  15%|██████▎                                   | 6/40 [00:08<00:51,  1.50s/it, loss=0.116, acc=95.8]Be aware, overflowing tokens are not returned for the setting you have chosen, i.e. sequence pairs with the 'longest_first' truncation strategy. So the returned list will always be empty even if some tokens have been removed.\n",
      "Epoch 3/3 [Train]:  42%|█████████████████▍                       | 17/40 [00:25<00:34,  1.49s/it, loss=0.126, acc=97.1]Be aware, overflowing tokens are not returned for the setting you have chosen, i.e. sequence pairs with the 'longest_first' truncation strategy. So the returned list will always be empty even if some tokens have been removed.\n",
      "Epoch 3/3 [Train]:  57%|████████████████████████▏                 | 23/40 [00:34<00:25,  1.49s/it, loss=0.12, acc=97.3]Be aware, overflowing tokens are not returned for the setting you have chosen, i.e. sequence pairs with the 'longest_first' truncation strategy. So the returned list will always be empty even if some tokens have been removed.\n",
      "Epoch 3/3 [Train]:  60%|████████████████████████▌                | 24/40 [00:35<00:23,  1.49s/it, loss=0.124, acc=97.1]Be aware, overflowing tokens are not returned for the setting you have chosen, i.e. sequence pairs with the 'longest_first' truncation strategy. So the returned list will always be empty even if some tokens have been removed.\n",
      "Be aware, overflowing tokens are not returned for the setting you have chosen, i.e. sequence pairs with the 'longest_first' truncation strategy. So the returned list will always be empty even if some tokens have been removed.\n",
      "Epoch 3/3 [Train]:  62%|██████████████████████████▉                | 25/40 [00:37<00:22,  1.49s/it, loss=0.131, acc=97]Be aware, overflowing tokens are not returned for the setting you have chosen, i.e. sequence pairs with the 'longest_first' truncation strategy. So the returned list will always be empty even if some tokens have been removed.\n",
      "Epoch 3/3 [Train]:  75%|██████████████████████████████▊          | 30/40 [00:44<00:14,  1.49s/it, loss=0.114, acc=97.5]Be aware, overflowing tokens are not returned for the setting you have chosen, i.e. sequence pairs with the 'longest_first' truncation strategy. So the returned list will always be empty even if some tokens have been removed.\n",
      "Epoch 3/3 [Train]:  80%|████████████████████████████████▊        | 32/40 [00:47<00:11,  1.49s/it, loss=0.111, acc=97.7]Be aware, overflowing tokens are not returned for the setting you have chosen, i.e. sequence pairs with the 'longest_first' truncation strategy. So the returned list will always be empty even if some tokens have been removed.\n",
      "Epoch 3/3 [Train]:  92%|█████████████████████████████████████▉   | 37/40 [00:55<00:04,  1.49s/it, loss=0.114, acc=97.3]Be aware, overflowing tokens are not returned for the setting you have chosen, i.e. sequence pairs with the 'longest_first' truncation strategy. So the returned list will always be empty even if some tokens have been removed.\n",
      "Epoch 3/3 [Train]: 100%|██████████████████████████████████████████| 40/40 [00:58<00:00,  1.46s/it, loss=0.11, acc=97.4]\n",
      "Epoch 3/3 [Validation]:   0%|                                                                   | 0/10 [00:00<?, ?it/s]Be aware, overflowing tokens are not returned for the setting you have chosen, i.e. sequence pairs with the 'longest_first' truncation strategy. So the returned list will always be empty even if some tokens have been removed.\n",
      "Epoch 3/3 [Validation]:  60%|██████████████████████▊               | 6/10 [00:01<00:00,  5.52it/s, loss=0.0607, acc=99]Be aware, overflowing tokens are not returned for the setting you have chosen, i.e. sequence pairs with the 'longest_first' truncation strategy. So the returned list will always be empty even if some tokens have been removed.\n",
      "Epoch 3/3 [Validation]:  80%|█████████████████████████████▌       | 8/10 [00:01<00:00,  5.49it/s, loss=0.105, acc=96.9]Be aware, overflowing tokens are not returned for the setting you have chosen, i.e. sequence pairs with the 'longest_first' truncation strategy. So the returned list will always be empty even if some tokens have been removed.\n",
      "Epoch 3/3 [Validation]: 100%|███████████████████████████████████| 10/10 [00:01<00:00,  5.59it/s, loss=0.0964, acc=96.8]"
     ]
    },
    {
     "name": "stdout",
     "output_type": "stream",
     "text": [
      "Epoch 3/3, Training Accuracy: 97.45%, Validation Accuracy: 96.82%\n"
     ]
    },
    {
     "name": "stderr",
     "output_type": "stream",
     "text": [
      "\n"
     ]
    }
   ],
   "source": [
    "# Training loop\n",
    "for epoch in range(num_epochs):\n",
    "    model.train()\n",
    "    train_loss = 0\n",
    "    correct_train = 0\n",
    "    total_train = 0\n",
    "    train_pbar = tqdm(train_loader, desc=f\"Epoch {epoch + 1}/{num_epochs} [Train]\")\n",
    "\n",
    "    for batch in train_pbar:\n",
    "        optimizer.zero_grad()\n",
    "        input_ids = batch[\"input_ids\"].to(device)\n",
    "        attention_mask = batch[\"attention_mask\"].to(device)\n",
    "        token_type_ids = batch[\"token_type_ids\"].to(device)\n",
    "        labels = batch[\"labels\"].to(device)\n",
    "\n",
    "        outputs = model(\n",
    "            input_ids,\n",
    "            attention_mask=attention_mask,\n",
    "            token_type_ids=token_type_ids,\n",
    "            labels=labels,\n",
    "        )\n",
    "        loss = outputs.loss\n",
    "        loss.backward()\n",
    "        optimizer.step()\n",
    "\n",
    "        train_loss += loss.item()\n",
    "        _, predicted = torch.max(outputs.logits, 1)\n",
    "        total_train += labels.size(0)\n",
    "        correct_train += (predicted == labels).sum().item()\n",
    "        train_accuracy = 100 * correct_train / total_train\n",
    "        train_pbar.set_postfix(\n",
    "            {\"loss\": train_loss / (train_pbar.n + 1), \"acc\": train_accuracy}\n",
    "        )\n",
    "\n",
    "    history[\"accuracy\"].append(train_accuracy)\n",
    "    history[\"loss\"].append(train_loss / len(train_loader))\n",
    "\n",
    "    # Validation\n",
    "    model.eval()\n",
    "    val_loss = 0\n",
    "    correct_val = 0\n",
    "    total_val = 0\n",
    "    val_pbar = tqdm(val_loader, desc=f\"Epoch {epoch + 1}/{num_epochs} [Validation]\")\n",
    "\n",
    "    with torch.no_grad():\n",
    "        for batch in val_pbar:\n",
    "            input_ids = batch[\"input_ids\"].to(device)\n",
    "            attention_mask = batch[\"attention_mask\"].to(device)\n",
    "            token_type_ids = batch[\"token_type_ids\"].to(device)\n",
    "            labels = batch[\"labels\"].to(device)\n",
    "\n",
    "            outputs = model(\n",
    "                input_ids,\n",
    "                attention_mask=attention_mask,\n",
    "                token_type_ids=token_type_ids,\n",
    "                labels=labels,\n",
    "            )\n",
    "            val_loss += outputs.loss.item()\n",
    "            _, predicted = torch.max(outputs.logits, 1)\n",
    "            total_val += labels.size(0)\n",
    "            correct_val += (predicted == labels).sum().item()\n",
    "\n",
    "            # Collect predictions for confusion matrix\n",
    "            y_true.extend(labels.cpu().numpy())\n",
    "            y_pred.extend(predicted.cpu().numpy())\n",
    "\n",
    "            val_accuracy = 100 * correct_val / total_val\n",
    "            val_pbar.set_postfix(\n",
    "                {\"loss\": val_loss / (val_pbar.n + 1), \"acc\": val_accuracy}\n",
    "            )\n",
    "\n",
    "    history[\"val_accuracy\"].append(val_accuracy)\n",
    "    history[\"val_loss\"].append(val_loss / len(val_loader))\n",
    "\n",
    "    print(\n",
    "        f\"Epoch {epoch + 1}/{num_epochs}, Training Accuracy: {train_accuracy:.2f}%, Validation Accuracy: {val_accuracy:.2f}%\"\n",
    "    )"
   ]
  },
  {
   "cell_type": "code",
   "execution_count": 175,
   "id": "5dca86bb-4d15-418e-a07a-7dde629145a3",
   "metadata": {},
   "outputs": [],
   "source": [
    "# Overall accuracy calculation\n",
    "overall_train_accuracy = 100 * correct_train / total_train\n",
    "overall_val_accuracy = 100 * correct_val / total_val"
   ]
  },
  {
   "cell_type": "code",
   "execution_count": 176,
   "id": "6f0d0ca6-43eb-4e77-b514-aeb86c26f9d5",
   "metadata": {},
   "outputs": [
    {
     "name": "stdout",
     "output_type": "stream",
     "text": [
      "Overall Training Accuracy: 97.45%\n",
      "Overall Validation Accuracy: 96.82%\n"
     ]
    }
   ],
   "source": [
    "print(f\"Overall Training Accuracy: {overall_train_accuracy:.2f}%\")\n",
    "print(f\"Overall Validation Accuracy: {overall_val_accuracy:.2f}%\")"
   ]
  },
  {
   "cell_type": "code",
   "execution_count": 177,
   "id": "c10a68cf-c2d6-44a5-974d-b6f15105cb69",
   "metadata": {},
   "outputs": [
    {
     "data": {
      "text/plain": [
       "('./tokenizer\\\\tokenizer_config.json',\n",
       " './tokenizer\\\\special_tokens_map.json',\n",
       " './tokenizer\\\\vocab.txt',\n",
       " './tokenizer\\\\added_tokens.json')"
      ]
     },
     "execution_count": 177,
     "metadata": {},
     "output_type": "execute_result"
    }
   ],
   "source": [
    "# Save the model\n",
    "torch.save(model.state_dict(), 'aspect_based_sentiment_model.pth')\n",
    "\n",
    "# Save the tokenizer\n",
    "tokenizer.save_pretrained('./tokenizer')"
   ]
  },
  {
   "cell_type": "code",
   "execution_count": 178,
   "id": "21b2e9ea-f95e-4988-abf5-29fcb079bad7",
   "metadata": {},
   "outputs": [],
   "source": [
    "# Define Confusion Matrix Function\n",
    "def plot_confusion_matrix(y_true, y_pred, labels):\n",
    "    cm = confusion_matrix(y_true, y_pred)\n",
    "    plt.figure(figsize=(8, 6))\n",
    "    sns.heatmap(cm, annot=True, fmt=\"d\", cmap=\"Blues\", xticklabels=labels, yticklabels=labels)\n",
    "    plt.xlabel('Predicted Labels')\n",
    "    plt.ylabel('True Labels')\n",
    "    plt.title('Confusion Matrix')\n",
    "    plt.show()"
   ]
  },
  {
   "cell_type": "code",
   "execution_count": 179,
   "id": "cc73aa78-d540-4a3b-81d9-190caeb9cc42",
   "metadata": {},
   "outputs": [],
   "source": [
    "# Define Classification Report Function\n",
    "def generate_classification_report(y_true, y_pred, labels):\n",
    "    report = classification_report(y_true, y_pred, target_names=labels)\n",
    "    print(\"Classification Report:\\n\", report)"
   ]
  },
  {
   "cell_type": "code",
   "execution_count": 180,
   "id": "eb07e64f-1fcd-4070-8842-2aaec81c139c",
   "metadata": {},
   "outputs": [],
   "source": [
    "def plot_training_curves(history):\n",
    "    epochs = range(1, len(history['accuracy']) + 1)\n",
    "    \n",
    "    # Accuracy Curves\n",
    "    plt.figure(figsize=(12, 5))\n",
    "    plt.subplot(1, 2, 1)\n",
    "    plt.plot(epochs, history['accuracy'], 'b', label='Training Accuracy')\n",
    "    plt.plot(epochs, history['val_accuracy'], 'r', label='Validation Accuracy')\n",
    "    plt.title('Training and Validation Accuracy')\n",
    "    plt.xlabel('Epochs')\n",
    "    plt.ylabel('Accuracy')\n",
    "    plt.legend()\n",
    "    \n",
    "    # Loss Curves\n",
    "    plt.subplot(1, 2, 2)\n",
    "    plt.plot(epochs, history['loss'], 'b', label='Training Loss')\n",
    "    plt.plot(epochs, history['val_loss'], 'r', label='Validation Loss')\n",
    "    plt.title('Training and Validation Loss')\n",
    "    plt.xlabel('Epochs')\n",
    "    plt.ylabel('Loss')\n",
    "    plt.legend()\n",
    "    \n",
    "    plt.tight_layout()\n",
    "    plt.show()"
   ]
  },
  {
   "cell_type": "code",
   "execution_count": 181,
   "id": "af478cf5-9839-49cd-b7a4-0ee21af1de8a",
   "metadata": {},
   "outputs": [
    {
     "data": {
      "image/png": "[encoded data removed]",
      "text/plain": [
       "<Figure size 1200x500 with 2 Axes>"
      ]
     },
     "metadata": {},
     "output_type": "display_data"
    }
   ],
   "source": [
    "# Plot training curves\n",
    "plot_training_curves(history)"
   ]
  },
  {
   "cell_type": "code",
   "execution_count": 182,
   "id": "db38e530-ae8c-45a6-938b-f34e850e57e4",
   "metadata": {},
   "outputs": [
    {
     "data": {
      "image/png": "[encoded data removed]",
      "text/plain": [
       "<Figure size 800x600 with 2 Axes>"
      ]
     },
     "metadata": {},
     "output_type": "display_data"
    }
   ],
   "source": [
    "# Generate confusion matrix and classification report\n",
    "labels_list = label_encoder.classes_  # Ensure to get the class labels\n",
    "plot_confusion_matrix(y_true, y_pred, labels=labels_list)  # Plot the confusion matrix"
   ]
  },
  {
   "cell_type": "code",
   "execution_count": 183,
   "id": "42fb4995-434b-4e75-909b-53bca69c44b0",
   "metadata": {},
   "outputs": [
    {
     "name": "stdout",
     "output_type": "stream",
     "text": [
      "Classification Report:\n",
      "               precision    recall  f1-score   support\n",
      "\n",
      "    negative       0.82      0.67      0.73        54\n",
      "     neutral       0.80      0.44      0.57         9\n",
      "    positive       0.95      0.99      0.97       408\n",
      "\n",
      "    accuracy                           0.94       471\n",
      "   macro avg       0.86      0.70      0.76       471\n",
      "weighted avg       0.93      0.94      0.93       471\n",
      "\n"
     ]
    }
   ],
   "source": [
    "generate_classification_report(y_true, y_pred, labels=labels_list)  # Generate the classification report"
   ]
  },
  {
   "cell_type": "code",
   "execution_count": 184,
   "id": "aa114609-1a70-4c29-84b3-9e3a54d9b808",
   "metadata": {},
   "outputs": [],
   "source": [
    "def load_saved_model(model_path):\n",
    "    model = BertForSequenceClassification.from_pretrained('bert-base-uncased', num_labels=3)\n",
    "    model.load_state_dict(torch.load(model_path,map_location=torch.device('cpu')))\n",
    "    model.to('cpu')\n",
    "    model.eval()\n",
    "    return model"
   ]
  },
  {
   "cell_type": "code",
   "execution_count": 185,
   "id": "e4c741d1",
   "metadata": {},
   "outputs": [
    {
     "name": "stderr",
     "output_type": "stream",
     "text": [
      "Some weights of BertForSequenceClassification were not initialized from the model checkpoint at bert-base-uncased and are newly initialized: ['classifier.bias', 'classifier.weight']\n",
      "You should probably TRAIN this model on a down-stream task to be able to use it for predictions and inference.\n",
      "C:\\Users\\ASUS\\AppData\\Local\\Temp\\ipykernel_14868\\3249253587.py:3: FutureWarning: You are using `torch.load` with `weights_only=False` (the current default value), which uses the default pickle module implicitly. It is possible to construct malicious pickle data which will execute arbitrary code during unpickling (See https://github.com/pytorch/pytorch/blob/main/SECURITY.md#untrusted-models for more details). In a future release, the default value for `weights_only` will be flipped to `True`. This limits the functions that could be executed during unpickling. Arbitrary objects will no longer be allowed to be loaded via this mode unless they are explicitly allowlisted by the user via `torch.serialization.add_safe_globals`. We recommend you start setting `weights_only=True` for any use case where you don't have full control of the loaded file. Please open an issue on GitHub for any issues related to this experimental feature.\n",
      "  model.load_state_dict(torch.load(model_path,map_location=torch.device('cpu')))\n"
     ]
    }
   ],
   "source": [
    "loaded_model = load_saved_model('./aspect_based_sentiment_model.pth')"
   ]
  },
  {
   "cell_type": "code",
   "execution_count": 186,
   "id": "dacae461-a221-43f6-863e-8b3f38b6e420",
   "metadata": {},
   "outputs": [],
   "source": [
    "import torch\n",
    "from transformers import BertTokenizer, BertForSequenceClassification\n",
    "import re\n",
    "\n",
    "# model = BertForSequenceClassification.from_pretrained(\"./aspect_based_sentiment_model.pth\")\n",
    "# tokenizer = BertTokenizer.from_pretrained('bert-base-uncased')\n",
    "# label_encoder = LabelEncoder() \n",
    "# device = torch.device('cuda' if torch.cuda.is_available() else 'cpu')\n",
    "# model.to(device)"
   ]
  },
  {
   "cell_type": "code",
   "execution_count": 187,
   "id": "7d3b0a61-878b-4a90-a354-387f529aff5f",
   "metadata": {},
   "outputs": [],
   "source": [
    "def predict_sentiments(text, model, tokenizer, label_encoder, device):\n",
    "    aspects = ['battery', 'display', 'design', 'performance', 'camera']\n",
    "    results = {}\n",
    "\n",
    "    model.eval()\n",
    "\n",
    "    for aspect in aspects:\n",
    "        # Check if the aspect is mentioned in the text\n",
    "        aspect_pattern = r'\\b' + re.escape(aspect) + r'\\b'\n",
    "        if re.search(aspect_pattern, text, re.IGNORECASE):\n",
    "            # Find the sentence containing the aspect\n",
    "            sentences = re.split(r'(?<=[.!?])\\s+', text)\n",
    "            relevant_sentence = next((s for s in sentences if re.search(aspect_pattern, s, re.IGNORECASE)), text)\n",
    "\n",
    "            # Prepare input for the model\n",
    "            inputs = tokenizer.encode_plus(\n",
    "                aspect,\n",
    "                relevant_sentence,\n",
    "                add_special_tokens=True,\n",
    "                max_length=128,\n",
    "                padding='max_length',\n",
    "                truncation=True,\n",
    "                return_attention_mask=True,\n",
    "                return_token_type_ids=True,\n",
    "                return_tensors='pt'\n",
    "            )\n",
    "\n",
    "            # Make prediction\n",
    "            with torch.no_grad():\n",
    "                outputs = model(\n",
    "                    inputs['input_ids'].to(device),\n",
    "                    attention_mask=inputs['attention_mask'].to(device),\n",
    "                    token_type_ids=inputs['token_type_ids'].to(device)\n",
    "                )\n",
    "\n",
    "            _, predicted = torch.max(outputs.logits, 1)\n",
    "            sentiment = label_encoder.inverse_transform([predicted.item()])[0]\n",
    "\n",
    "            results[aspect] = sentiment\n",
    "\n",
    "    return results"
   ]
  },
  {
   "cell_type": "code",
   "execution_count": 188,
   "id": "9fbfc1dc-660d-4725-8f8b-4aabef2b6a6e",
   "metadata": {},
   "outputs": [
    {
     "name": "stdout",
     "output_type": "stream",
     "text": [
      "Aspect: battery, Sentiment: negative\n"
     ]
    }
   ],
   "source": [
    "text = \"battery doesn't last long\"\n",
    "\n",
    "predictions = predict_sentiments(text, loaded_model, tokenizer, label_encoder, device='cpu')\n",
    "\n",
    "for aspect, sentiment in predictions.items():\n",
    "    print(f\"Aspect: {aspect}, Sentiment: {sentiment}\")"
   ]
  },
  {
   "cell_type": "code",
   "execution_count": 189,
   "id": "d3e80d9b-b3a9-4f14-a67d-8f5d460acd56",
   "metadata": {},
   "outputs": [
    {
     "name": "stdout",
     "output_type": "stream",
     "text": [
      "Aspect: battery, Sentiment: negative\n"
     ]
    }
   ],
   "source": [
    "text = \"battery short life\"\n",
    "\n",
    "predictions = predict_sentiments(text, loaded_model, tokenizer, label_encoder, device='cpu')\n",
    "\n",
    "for aspect, sentiment in predictions.items():\n",
    "    print(f\"Aspect: {aspect}, Sentiment: {sentiment}\")"
   ]
  },
  {
   "cell_type": "code",
   "execution_count": 190,
   "id": "1ad0b764-43ab-42a3-8c15-1021839f7deb",
   "metadata": {},
   "outputs": [
    {
     "name": "stdout",
     "output_type": "stream",
     "text": [
      "Aspect: design, Sentiment: negative\n"
     ]
    }
   ],
   "source": [
    "text = \"design is old\"\n",
    "\n",
    "predictions = predict_sentiments(text, loaded_model, tokenizer, label_encoder, device='cpu')\n",
    "\n",
    "for aspect, sentiment in predictions.items():\n",
    "    print(f\"Aspect: {aspect}, Sentiment: {sentiment}\")"
   ]
  },
  {
   "cell_type": "code",
   "execution_count": 191,
   "id": "7cf3c6e0-33df-444f-98c0-7cbb6f52298f",
   "metadata": {},
   "outputs": [
    {
     "name": "stdout",
     "output_type": "stream",
     "text": [
      "Aspect: design, Sentiment: positive\n"
     ]
    }
   ],
   "source": [
    "text = \"design is latest technology\"\n",
    "\n",
    "predictions = predict_sentiments(text, loaded_model, tokenizer, label_encoder, device='cpu')\n",
    "\n",
    "for aspect, sentiment in predictions.items():\n",
    "    print(f\"Aspect: {aspect}, Sentiment: {sentiment}\")"
   ]
  },
  {
   "cell_type": "code",
   "execution_count": 192,
   "id": "d72227b2-a576-4a83-a0a8-04f919fa8752",
   "metadata": {},
   "outputs": [
    {
     "name": "stdout",
     "output_type": "stream",
     "text": [
      "Aspect: battery, Sentiment: positive\n"
     ]
    }
   ],
   "source": [
    "text = \"battery is drains very fast with short battery life\"\n",
    "\n",
    "predictions = predict_sentiments(text, loaded_model, tokenizer, label_encoder, device='cpu')\n",
    "\n",
    "for aspect, sentiment in predictions.items():\n",
    "    print(f\"Aspect: {aspect}, Sentiment: {sentiment}\")"
   ]
  },
  {
   "cell_type": "code",
   "execution_count": 193,
   "id": "3fec1692-fe7f-4d17-a677-b2ad2b03b485",
   "metadata": {},
   "outputs": [
    {
     "name": "stdout",
     "output_type": "stream",
     "text": [
      "Aspect: camera, Sentiment: neutral\n"
     ]
    }
   ],
   "source": [
    "text = \"picture from rear camera is crystal clear\"\n",
    "\n",
    "predictions = predict_sentiments(text, loaded_model, tokenizer, label_encoder, device='cpu')\n",
    "\n",
    "for aspect, sentiment in predictions.items():\n",
    "    print(f\"Aspect: {aspect}, Sentiment: {sentiment}\")"
   ]
  },
  {
   "cell_type": "code",
   "execution_count": 194,
   "id": "4931410e-f416-4797-9310-1e0a07629f33",
   "metadata": {},
   "outputs": [
    {
     "name": "stdout",
     "output_type": "stream",
     "text": [
      "Aspect: camera, Sentiment: negative\n"
     ]
    }
   ],
   "source": [
    "text = \"picture from rear camera is blur\"\n",
    "\n",
    "predictions = predict_sentiments(text, loaded_model, tokenizer, label_encoder, device='cpu')\n",
    "\n",
    "for aspect, sentiment in predictions.items():\n",
    "    print(f\"Aspect: {aspect}, Sentiment: {sentiment}\")"
   ]
  },
  {
   "cell_type": "code",
   "execution_count": 195,
   "id": "04517c02-7a42-4551-8461-f743aebea31d",
   "metadata": {},
   "outputs": [
    {
     "name": "stdout",
     "output_type": "stream",
     "text": [
      "Aspect: battery, Sentiment: negative\n"
     ]
    }
   ],
   "source": [
    "text = \"it becomes too too too hot ,iam so disappointed with this brand . there is no difference between 4g and 5g . battery was weak iam charging twice a day,for basic level of usage itself.\"\n",
    "\n",
    "predictions = predict_sentiments(text, loaded_model, tokenizer, label_encoder, device='cpu')\n",
    "\n",
    "for aspect, sentiment in predictions.items():\n",
    "    print(f\"Aspect: {aspect}, Sentiment: {sentiment}\")"
   ]
  },
  {
   "cell_type": "code",
   "execution_count": 196,
   "id": "39429ef1-bceb-4fd1-914b-c04ccd909535",
   "metadata": {},
   "outputs": [
    {
     "name": "stdout",
     "output_type": "stream",
     "text": [
      "Aspect: battery, Sentiment: negative\n"
     ]
    }
   ],
   "source": [
    "text = \"having big one major problem it's very fast battery draining\"\n",
    "\n",
    "predictions = predict_sentiments(text, loaded_model, tokenizer, label_encoder, device='cpu')\n",
    "\n",
    "for aspect, sentiment in predictions.items():\n",
    "    print(f\"Aspect: {aspect}, Sentiment: {sentiment}\")"
   ]
  },
  {
   "cell_type": "code",
   "execution_count": 197,
   "id": "5c35748c-edc6-4642-b993-8553d42e16cb",
   "metadata": {},
   "outputs": [
    {
     "name": "stdout",
     "output_type": "stream",
     "text": [
      "Aspect: battery, Sentiment: positive\n",
      "Aspect: display, Sentiment: positive\n",
      "Aspect: design, Sentiment: positive\n",
      "Aspect: performance, Sentiment: positive\n",
      "Aspect: camera, Sentiment: positive\n"
     ]
    }
   ],
   "source": [
    "text = '''Realme p1 5g is the one of the best smart phone under 15k.. camera it's ok\n",
    "Battery 🔋 maximum 1days\n",
    "Display is amoled so nice 👍\n",
    "Design very nice\n",
    "Performance.. mediatek 7050 is very powerful.. free fire 60fps....and...Bgmi.. smooth extreme..💪💪.. I Love 💗 this phone..'''\n",
    "\n",
    "predictions = predict_sentiments(text, loaded_model, tokenizer, label_encoder, device='cpu')\n",
    "\n",
    "for aspect, sentiment in predictions.items():\n",
    "    print(f\"Aspect: {aspect}, Sentiment: {sentiment}\")"
   ]
  },
  {
   "cell_type": "code",
   "execution_count": 198,
   "id": "5b373eea-da69-4e0c-aed9-0d12b67c320f",
   "metadata": {},
   "outputs": [
    {
     "name": "stdout",
     "output_type": "stream",
     "text": [
      "Aspect: battery, Sentiment: negative\n"
     ]
    }
   ],
   "source": [
    "text = '''\n",
    "But battery backup very poor\n",
    "Atleast one day not stand by battery backup\n",
    "Very fast drain the battery\n",
    "Worst battery\n",
    "Not go to buy this phone'''\n",
    "\n",
    "predictions = predict_sentiments(text, loaded_model, tokenizer, label_encoder, device='cpu')\n",
    "\n",
    "for aspect, sentiment in predictions.items():\n",
    "    print(f\"Aspect: {aspect}, Sentiment: {sentiment}\")"
   ]
  },
  {
   "cell_type": "code",
   "execution_count": 199,
   "id": "d7158bb6-5e2f-47b6-96f2-8631ab330a21",
   "metadata": {},
   "outputs": [],
   "source": [
    "import spacy\n",
    "\n",
    "# Load the spaCy English model\n",
    "nlp = spacy.load(\"en_core_web_sm\")"
   ]
  },
  {
   "cell_type": "code",
   "execution_count": 200,
   "id": "ce2613a6-42d1-4e0d-8d99-460109608234",
   "metadata": {},
   "outputs": [],
   "source": [
    "def split_text(text):\n",
    "    # First, split by newline characters\n",
    "    split_by_newlines = text.split('\\n')\n",
    "    all_sentences = []\n",
    "    \n",
    "    for part in split_by_newlines:\n",
    "        if part.strip():  # Ignore empty parts\n",
    "            all_sentences.extend(split_on_conjunctions(part))\n",
    "    \n",
    "    return all_sentences"
   ]
  },
  {
   "cell_type": "code",
   "execution_count": 201,
   "id": "31d9fd70-7ab6-488c-b8a1-c865f21dd034",
   "metadata": {},
   "outputs": [],
   "source": [
    "def split_on_conjunctions(text):\n",
    "    doc = nlp(text)\n",
    "    sentences = []\n",
    "    current_sentence = []\n",
    "    \n",
    "    for token in doc:\n",
    "        current_sentence.append(token.text)\n",
    "        \n",
    "        # If we encounter a coordinating conjunction or new sentence, split\n",
    "        if token.dep_ == 'cc' or token.text == '.':\n",
    "            sentences.append(' '.join(current_sentence).strip())\n",
    "            current_sentence = []\n",
    "    \n",
    "    # Add the final sentence if any\n",
    "    if current_sentence:\n",
    "        sentences.append(' '.join(current_sentence).strip())\n",
    "    \n",
    "    return sentences"
   ]
  },
  {
   "cell_type": "code",
   "execution_count": 202,
   "id": "70d7f17d-6dd2-49cd-8c5f-328e8961098c",
   "metadata": {},
   "outputs": [
    {
     "name": "stdout",
     "output_type": "stream",
     "text": [
      "Sentence 1: Design - Awesome Looking and\n",
      "Sentence 2: Dimensity 7050 5 G Processor - Good   Amoled Display - Decent\n",
      "Sentence 3: Sound Experience is also Good but\n",
      "Sentence 4: Camera Quality is superb\n"
     ]
    }
   ],
   "source": [
    "# Test case\n",
    "text = '''Design - Awesome Looking and Dimensity 7050 5G Processor - Good  Amoled Display - Decent\n",
    "Sound Experience is also Good but Camera Quality is superb'''\n",
    "\n",
    "sentences = split_text(text)\n",
    "\n",
    "# Output each split sentence\n",
    "for idx, sentence in enumerate(sentences):\n",
    "    print(f\"Sentence {idx+1}: {sentence}\")"
   ]
  },
  {
   "cell_type": "code",
   "execution_count": 203,
   "id": "2e132af5-571f-4b1c-8e83-8147dd9c7636",
   "metadata": {},
   "outputs": [],
   "source": [
    "def predict_sentences(text):\n",
    "    text = preprocess_text(text)\n",
    "    \n",
    "    sentences = split_text(text)\n",
    "\n",
    "    for text in sentences :\n",
    "        \n",
    "        print(text)\n",
    "        print()\n",
    "        \n",
    "        predictions = predict_sentiments(text, loaded_model, tokenizer, label_encoder, device='cpu')\n",
    "\n",
    "        for aspect, sentiment in predictions.items():\n",
    "            print(f\"Aspect: {aspect}, Sentiment: {sentiment}\")"
   ]
  },
  {
   "cell_type": "code",
   "execution_count": 204,
   "id": "33c8be7a-f65f-40f3-b1e6-1fb0e49ae3d5",
   "metadata": {},
   "outputs": [
    {
     "name": "stdout",
     "output_type": "stream",
     "text": [
      "phone price range camera quality good bad display battery back poor\n",
      "\n",
      "Aspect: battery, Sentiment: negative\n",
      "Aspect: display, Sentiment: negative\n",
      "Aspect: camera, Sentiment: negative\n"
     ]
    }
   ],
   "source": [
    "text = '''The phone in this price range\n",
    "Camera quality is  good\n",
    "Very bad display\n",
    "Battery back poor'''\n",
    "predict_sentences(text)"
   ]
  },
  {
   "cell_type": "code",
   "execution_count": 205,
   "id": "4fb33acf-5f8f-47db-8b78-783df8bc5e68",
   "metadata": {},
   "outputs": [
    {
     "name": "stdout",
     "output_type": "stream",
     "text": [
      "design awesome looking dimensity g processor good amoled display decent sound experience also good camera quality superb smoothly running apps\n",
      "\n",
      "Aspect: display, Sentiment: positive\n",
      "Aspect: design, Sentiment: positive\n",
      "Aspect: camera, Sentiment: positive\n"
     ]
    }
   ],
   "source": [
    "text = '''Design - Awesome Looking\n",
    "Dimensity 7050 5G Processor - Good\n",
    "Amoled Display - Decent\n",
    "Sound Experience is also Good\n",
    "Camera Quality - superB\n",
    "Smoothly Running All Apps.'''\n",
    "predict_sentences(text)"
   ]
  },
  {
   "cell_type": "code",
   "execution_count": 206,
   "id": "b1529238-25ce-4cd2-82ee-ba3778a49829",
   "metadata": {},
   "outputs": [
    {
     "name": "stdout",
     "output_type": "stream",
     "text": [
      "seriously 's good game smooth bgmi basis no no no 's smooth feel always cool phone camera quality oho oho oho nice\n",
      "\n",
      "Aspect: camera, Sentiment: positive\n"
     ]
    }
   ],
   "source": [
    "text = '''SERIOUSLY IT'S TOO GOOD.\n",
    "GAME IS SMOOTH IN BGMI BASIS NO.NO.NO..IT'S OVER SMOOTH.\n",
    "YOU FEEL ALWAYS COOL YOUR PHONE..CAMERA QUALITY..OHO.OHO.OHO..NICE'''\n",
    "predict_sentences(text)"
   ]
  }
 ],
 "metadata": {
  "kernelspec": {
   "display_name": "Python 3 (ipykernel)",
   "language": "python",
   "name": "python3"
  },
  "language_info": {
   "codemirror_mode": {
    "name": "ipython",
    "version": 3
   },
   "file_extension": ".py",
   "mimetype": "text/x-python",
   "name": "python",
   "nbconvert_exporter": "python",
   "pygments_lexer": "ipython3",
   "version": "3.12.0"
  }
 },
 "nbformat": 4,
 "nbformat_minor": 5
}
